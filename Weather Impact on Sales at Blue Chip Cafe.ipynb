{
 "cells": [
  {
   "cell_type": "markdown",
   "id": "ba58d942-25f5-4d70-aef3-f4d13dd4eace",
   "metadata": {},
   "source": [
    "### Modelling Assignment 2 Group Component\n",
    "Group 18\n",
    "- Arya Amin\n",
    "- Sophie Hocevar\n",
    "- Ameesh Perchani\n",
    "- Zeeshan Ahmed"
   ]
  },
  {
   "cell_type": "code",
   "execution_count": 1,
   "id": "0dfc7843-42c1-4fe2-a4d9-20fb7db218d8",
   "metadata": {},
   "outputs": [
    {
     "name": "stdout",
     "output_type": "stream",
     "text": [
      "packages imported\n"
     ]
    }
   ],
   "source": [
    "import numpy as np\n",
    "import matplotlib.pyplot as plt\n",
    "import scipy.stats as stats\n",
    "import pandas as pd\n",
    "\n",
    "print(\"packages imported\")"
   ]
  },
  {
   "cell_type": "markdown",
   "id": "daf11784-e30c-4751-a94e-46b8d812f082",
   "metadata": {},
   "source": [
    "**Problem Statement**\n",
    "\n",
    "Determine the predicted total annual revenue of Blue Chip Cafe in the year 2024 based on past weather and customer frequency data."
   ]
  },
  {
   "cell_type": "markdown",
   "id": "d3e110ad-334d-47dd-b866-cfa8392719e8",
   "metadata": {},
   "source": [
    "**Variables and Parameters**\n",
    "\n",
    "| Description | Symbol | Dimensions | Type |\n",
    "| :---: | :---: | :---: | :---: |\n",
    "| total daily customers | $C$ | $N$ | Random Variable |\n",
    "| average daily temperature | $T$ | $^{\\circ}C$ | Random Variable |\n",
    "| total daily precipitation | $P$ | $mm$ | Random Variable |\n",
    "| reference number of customers | $C_0$ | $N$ | Parameter |\n",
    "| reference temperature | $T_0$ | $^{\\circ}C$ | Parameter |\n",
    "| reference precipitation | $P_0$ | $^{\\circ}C$ | Parameter |\n",
    "| rate of change of customers wrt temperature | $a$ | ${^{\\circ}C}^{-1}$ | Parameter |\n",
    "| rate of change of customers wrt precipitation | $b$ | ${mm}^{-1}$ | Parameter |"
   ]
  },
  {
   "cell_type": "markdown",
   "id": "519eac43-df73-44ea-a2cb-5f0e81c8e9df",
   "metadata": {},
   "source": [
    "**Assumptions and Constraints**\n",
    "- we assume that the only two factors affecting Blue Chip Cafe's total daily customers are total daily precipitation and average daily temperature\n",
    "- we assume that the amount of money a customer spends on one visit to Blue Chip Cafe is uniformly distributed over the minimum and maximum price on the menu\n",
    "- we assume that the only source of revenue for Blue Chip Cafe is through selling items on the menu to customers\n",
    "- we assume that Blue Chip Cafe's total daily customers is given by the following equation: $C(T, P) = \\max\\{c(T, P), 0\\}, \\text{ where } c(T, P) = C_0 + a(T - T_0) - b(P - P_0).$\n",
    "- we use the customer data from March 2024 as the reference number of customers i.e. $C_0$\n",
    "- we use the March weather data across all years to find reference total daily precipitation ($P_0$) and reference daily average temperature ($T_0$).\n",
    "- Blue Chip Cafe is open every day of the year except for University Closures.\n",
    "- we assume that the rate of change of customers w.r.t temperature ($a$) and the rate of change of customers w.r.t precipitation ($b$) for Blue Chip are the same as the restaurant/cafe in the article$^1$.\n",
    "- $a = 5.2 {^{\\circ}C}^{-1}$\n",
    "- $b = 2.6 {mm}^{-1}$"
   ]
  },
  {
   "cell_type": "markdown",
   "id": "75f961d7-34fc-4296-9b38-eeb80d3bdf07",
   "metadata": {},
   "source": [
    "**Build Solutions**"
   ]
  },
  {
   "cell_type": "code",
   "execution_count": 2,
   "id": "8b869598-bc44-4ab7-93ef-acec4319e49d",
   "metadata": {},
   "outputs": [],
   "source": [
    "weather = pd.read_csv('vancouver_weather.csv')\n",
    "customers = pd.read_csv('customer.csv')"
   ]
  },
  {
   "cell_type": "code",
   "execution_count": 3,
   "id": "0cd047c1-b724-497b-9ce4-ad920aa6da97",
   "metadata": {},
   "outputs": [
    {
     "data": {
      "text/html": [
       "<div>\n",
       "<style scoped>\n",
       "    .dataframe tbody tr th:only-of-type {\n",
       "        vertical-align: middle;\n",
       "    }\n",
       "\n",
       "    .dataframe tbody tr th {\n",
       "        vertical-align: top;\n",
       "    }\n",
       "\n",
       "    .dataframe thead th {\n",
       "        text-align: right;\n",
       "    }\n",
       "</style>\n",
       "<table border=\"1\" class=\"dataframe\">\n",
       "  <thead>\n",
       "    <tr style=\"text-align: right;\">\n",
       "      <th></th>\n",
       "      <th>year</th>\n",
       "      <th>month</th>\n",
       "      <th>day</th>\n",
       "      <th>avg_temperature</th>\n",
       "      <th>precipitation</th>\n",
       "    </tr>\n",
       "  </thead>\n",
       "  <tbody>\n",
       "    <tr>\n",
       "      <th>0</th>\n",
       "      <td>2022</td>\n",
       "      <td>12</td>\n",
       "      <td>31</td>\n",
       "      <td>5.90</td>\n",
       "      <td>3.8</td>\n",
       "    </tr>\n",
       "    <tr>\n",
       "      <th>1</th>\n",
       "      <td>2022</td>\n",
       "      <td>12</td>\n",
       "      <td>30</td>\n",
       "      <td>7.80</td>\n",
       "      <td>12.7</td>\n",
       "    </tr>\n",
       "    <tr>\n",
       "      <th>2</th>\n",
       "      <td>2022</td>\n",
       "      <td>12</td>\n",
       "      <td>29</td>\n",
       "      <td>4.84</td>\n",
       "      <td>2.9</td>\n",
       "    </tr>\n",
       "    <tr>\n",
       "      <th>3</th>\n",
       "      <td>2022</td>\n",
       "      <td>12</td>\n",
       "      <td>28</td>\n",
       "      <td>5.80</td>\n",
       "      <td>3.8</td>\n",
       "    </tr>\n",
       "    <tr>\n",
       "      <th>4</th>\n",
       "      <td>2022</td>\n",
       "      <td>12</td>\n",
       "      <td>27</td>\n",
       "      <td>8.10</td>\n",
       "      <td>28.8</td>\n",
       "    </tr>\n",
       "  </tbody>\n",
       "</table>\n",
       "</div>"
      ],
      "text/plain": [
       "   year  month  day  avg_temperature  precipitation\n",
       "0  2022     12   31             5.90            3.8\n",
       "1  2022     12   30             7.80           12.7\n",
       "2  2022     12   29             4.84            2.9\n",
       "3  2022     12   28             5.80            3.8\n",
       "4  2022     12   27             8.10           28.8"
      ]
     },
     "execution_count": 3,
     "metadata": {},
     "output_type": "execute_result"
    }
   ],
   "source": [
    "weather.head()"
   ]
  },
  {
   "cell_type": "code",
   "execution_count": 4,
   "id": "aa1cd4ba-9e38-433b-8e6c-72e0fa14d017",
   "metadata": {},
   "outputs": [
    {
     "data": {
      "text/html": [
       "<div>\n",
       "<style scoped>\n",
       "    .dataframe tbody tr th:only-of-type {\n",
       "        vertical-align: middle;\n",
       "    }\n",
       "\n",
       "    .dataframe tbody tr th {\n",
       "        vertical-align: top;\n",
       "    }\n",
       "\n",
       "    .dataframe thead th {\n",
       "        text-align: right;\n",
       "    }\n",
       "</style>\n",
       "<table border=\"1\" class=\"dataframe\">\n",
       "  <thead>\n",
       "    <tr style=\"text-align: right;\">\n",
       "      <th></th>\n",
       "      <th>Hour</th>\n",
       "      <th>Monthly_Frequency_Customers</th>\n",
       "    </tr>\n",
       "  </thead>\n",
       "  <tbody>\n",
       "    <tr>\n",
       "      <th>0</th>\n",
       "      <td>7</td>\n",
       "      <td>259</td>\n",
       "    </tr>\n",
       "    <tr>\n",
       "      <th>1</th>\n",
       "      <td>8</td>\n",
       "      <td>250</td>\n",
       "    </tr>\n",
       "    <tr>\n",
       "      <th>2</th>\n",
       "      <td>9</td>\n",
       "      <td>346</td>\n",
       "    </tr>\n",
       "    <tr>\n",
       "      <th>3</th>\n",
       "      <td>10</td>\n",
       "      <td>335</td>\n",
       "    </tr>\n",
       "    <tr>\n",
       "      <th>4</th>\n",
       "      <td>11</td>\n",
       "      <td>722</td>\n",
       "    </tr>\n",
       "  </tbody>\n",
       "</table>\n",
       "</div>"
      ],
      "text/plain": [
       "   Hour  Monthly_Frequency_Customers\n",
       "0     7                          259\n",
       "1     8                          250\n",
       "2     9                          346\n",
       "3    10                          335\n",
       "4    11                          722"
      ]
     },
     "execution_count": 4,
     "metadata": {},
     "output_type": "execute_result"
    }
   ],
   "source": [
    "customers.head()"
   ]
  },
  {
   "cell_type": "code",
   "execution_count": 5,
   "id": "0dc15db9-1dc9-457a-b40f-3c359765c62f",
   "metadata": {},
   "outputs": [
    {
     "data": {
      "image/png": "[encoded data removed]",
      "text/plain": [
       "<Figure size 640x480 with 1 Axes>"
      ]
     },
     "metadata": {},
     "output_type": "display_data"
    }
   ],
   "source": [
    "#Plot of amount spent by a customer on one visit to Blue Chip\n",
    "x = np.linspace(0,14,1000)\n",
    "uniform = lambda x,A,B: 1/(B-A)*(np.heaviside(x-A,1) - np.heaviside(x-B,1))\n",
    "A = 1.25\n",
    "B = 12.5\n",
    "y = uniform(x,A,B)\n",
    "plt.plot(x,y)\n",
    "plt.title('Amount Spent By Customer, Figure 1')\n",
    "plt.grid(True)\n",
    "plt.show()"
   ]
  },
  {
   "cell_type": "markdown",
   "id": "fa001bea-7834-4f1f-b046-c10576666461",
   "metadata": {},
   "source": [
    "A represents the lowest amount spent by a costumer and B represents the highest amount spent by a costumer. Prices were taken from the Blue Chip menu$^2$."
   ]
  },
  {
   "cell_type": "code",
   "execution_count": 6,
   "id": "9e5722b8-765d-40dc-b393-f7cfcbc6273f",
   "metadata": {},
   "outputs": [
    {
     "name": "stdout",
     "output_type": "stream",
     "text": [
      "T_0:6.734714640198511\n"
     ]
    }
   ],
   "source": [
    "#We use the average temperature over March as a reference, T0 so we fit a normal distrbution on it and calculate the mean\n",
    "T_0 = weather[weather['month'] == 3]['avg_temperature'].mean()\n",
    "print(\"T_0:\" + str(T_0))"
   ]
  },
  {
   "cell_type": "code",
   "execution_count": 7,
   "id": "f67538c2-c7e2-45be-9403-31c884792794",
   "metadata": {},
   "outputs": [
    {
     "name": "stdout",
     "output_type": "stream",
     "text": [
      "P_0:3.8638957816377175\n"
     ]
    }
   ],
   "source": [
    "#We use the total daily precipitation over March as a reference, P0 so we fit a exponential distrbution on it and calculate the mean\n",
    "#We shift the curve by 2mm to fit an exponential \n",
    "weather_1 = weather[weather['month'] == 3]['precipitation']\n",
    "weather_2 = weather_1\n",
    "weather_3 = weather_2 - 2\n",
    "P_0 = weather_3.mean() + 2\n",
    "print(\"P_0:\" + str(P_0))"
   ]
  },
  {
   "cell_type": "code",
   "execution_count": 8,
   "id": "a7eecad6-1376-40ac-9579-fe138ef1f2ae",
   "metadata": {},
   "outputs": [
    {
     "data": {
      "image/png": "[encoded data removed]",
      "text/plain": [
       "<Figure size 1000x400 with 1 Axes>"
      ]
     },
     "metadata": {},
     "output_type": "display_data"
    },
    {
     "name": "stdout",
     "output_type": "stream",
     "text": [
      "Total Customers in March: 5742\n",
      "C_0: 191\n"
     ]
    }
   ],
   "source": [
    "#We plot the monthly frequency customers vs hour of the day and sum the values to find the reference number of customers, C0\n",
    "customers.plot('Hour','Monthly_Frequency_Customers',kind='scatter',figsize=(10,4))\n",
    "plt.grid(True)\n",
    "plt.title('Frequency of Customer, Figure 2')\n",
    "plt.show()\n",
    "print(\"Total Customers in March: \" + str(customers['Monthly_Frequency_Customers'].sum()))\n",
    "print(\"C_0: \" + str(round(customers['Monthly_Frequency_Customers'].sum()/30)))"
   ]
  },
  {
   "cell_type": "code",
   "execution_count": 9,
   "id": "5f800434-4977-4497-b639-d616f38c5115",
   "metadata": {},
   "outputs": [],
   "source": [
    "n = 1000\n",
    "N = 29 #average number of days the cafe is open in a month\n",
    "C_0 = 191\n",
    "a = 5.2\n",
    "b = 2.6\n",
    "A = 1.25\n",
    "B = 12.5\n",
    "Rs = []\n",
    "\n",
    "#We run n simulations and calculate the revenue for each\n",
    "for k in range(n):\n",
    "    T_mean = []\n",
    "    T_sd = []\n",
    "    #We find the mean and variance of the average daily temperature for each month\n",
    "    for i in range(1,13):\n",
    "        mu = weather[weather['month'] == i]['avg_temperature'].mean()\n",
    "        sigma = np.sqrt(weather[weather['month'] == i]['avg_temperature'].var())\n",
    "        T_mean.append(mu)\n",
    "        T_sd.append(sigma)\n",
    "    \n",
    "    P_mean = []\n",
    "    #We find the mean and variance of the total daily precipitation for each month\n",
    "    for i in range(1,13):\n",
    "        weather_1 = weather[weather['month'] == i]['precipitation']\n",
    "        weather_2 = weather_1[weather_1 > 2]\n",
    "        weather_3 = weather_2 - 2\n",
    "        mu = weather_3.mean() + 2\n",
    "        P_mean.append(mu)\n",
    "    \n",
    "    T = []\n",
    "    P = []\n",
    "    #We take N random samples from the T and P distribution to calculate C for each month\n",
    "    for i in range(0,12):\n",
    "        T_i = stats.norm.rvs(loc=T_mean[i],scale=T_sd[i], size=N)\n",
    "        T.append(T_i)\n",
    "        P_i = stats.expon.rvs(loc=0, scale=P_mean[i], size=N)\n",
    "        P.append(P_i)\n",
    "    \n",
    "    \n",
    "    C = []\n",
    "    #We calculate C for every single day Blue Chip is open over a year\n",
    "    for i in range(12):\n",
    "        for j in range(N):\n",
    "            C_d = round(C_0 + a*(T[i][j] - T_0) - b*(P[i][j] - P_0))\n",
    "            C.append(max(0,C_d))\n",
    "    \n",
    "    price = []\n",
    "    #We randomly sample the amount each customer spends\n",
    "    for i in range(len(C)):\n",
    "        price_i = np.random.uniform(low=A,high=B,size=C[i])\n",
    "        price.append(price_i)\n",
    "    \n",
    "    R = 0\n",
    "    #We calculate the annual revenue of Blue Chip\n",
    "    for day in price:\n",
    "        for customer in day:\n",
    "            R += customer\n",
    "    \n",
    "    Rs.append(R)"
   ]
  },
  {
   "cell_type": "markdown",
   "id": "1f5b4e9a-c351-48e2-80a5-153a1e40d4da",
   "metadata": {},
   "source": [
    "**Analyze and Assess**"
   ]
  },
  {
   "cell_type": "markdown",
   "id": "b28d9f2e-2637-458f-8967-713bedb9f9ca",
   "metadata": {},
   "source": [
    "One of the assumptions of our model is that the amount each customer spends at Blue Chip is uniformly distributed between the cost of the cheapest item and the most expensive item on the menu. However, this is likely on the lower end of spending, so we want to see how changing the values would affect total revenue. When we changed the high and low values from $ \\$1.25$ and $ \\$12.50$ to $ \\$7.50$ and $ \\$15$ (keeping the normal distribution), the mean yearly revenue went from $ \\$481049$ to $ \\$787388 $, which is a massive revenue shift and could represent a flaw in our assumptions - it would be useful to conduct a study on how much the average customer spends at blue chip in order to fine tune our model."
   ]
  },
  {
   "cell_type": "markdown",
   "id": "aeb37711-6493-4da2-81ab-f5a4456a84a9",
   "metadata": {},
   "source": [
    "Another assumption that we chose to investigate was our values of $a$ and $b$, the rates of change of customers with respect to temperature and precipitation. We wanted to see how much these values would affect the final mean yearly revenue, and found that in this case it went from $ \\$481500$ with our $a$ and $b$ values found in the article to $ \\$435000$ when we switched the values (set $a = 2.6$ and $b = 5.2$), which makes sense as increasing $b$ while decreasing $a$ is bound to have a negative effect on revenue. Next we doubled the original values of $a$ and $b$, which found that revenue increased to $ \\$515000$, which is a medium sized shift, implying that while $a$ and $b$ (the temperature and precipitation impacts on revenue) do have large effects on the revenue, the pricing and amount spent per customer is more impactful."
   ]
  },
  {
   "cell_type": "markdown",
   "id": "5f929494-feb0-4602-a9ab-70c48ca35e70",
   "metadata": {},
   "source": [
    "Another piece of our analysis was how likely it is that Blue Chip earns a revenue above the mean, $\\$481049$, in a given year. We calculated this from the kde and found that there was a $52.94\\%$ probability, given the values of A and B are $ \\$1.25$ and $ \\$12.50$ respectively. If you used values $ \\$7.50$ and $ \\$15$ for A and B, respectively, we would find that the propbability of earning reveune above the mean, $ \\$787388 $, is $49.47\\%$ "
   ]
  },
  {
   "cell_type": "markdown",
   "id": "385f9ac5-6095-4da8-96e8-9d6c3fba16db",
   "metadata": {},
   "source": [
    "**Report Results**"
   ]
  },
  {
   "cell_type": "code",
   "execution_count": 10,
   "id": "f61215d8-ea25-4535-b8bb-e3a99cb9c417",
   "metadata": {},
   "outputs": [
    {
     "name": "stdout",
     "output_type": "stream",
     "text": [
      "Mean of Revenue: 468535.11\n",
      "Probability of revenue above the mean in a given year: 0.08 %\n"
     ]
    },
    {
     "data": {
      "image/png": "[encoded data removed]",
      "text/plain": [
       "<Figure size 640x480 with 1 Axes>"
      ]
     },
     "metadata": {},
     "output_type": "display_data"
    }
   ],
   "source": [
    "#We plot a histogram of the annual revenue earned by Blue Chip and fit a pdf over it using a Kernel Density Estimate\n",
    "plt.hist(Rs, bins = 30, density = True)\n",
    "kde = stats.gaussian_kde(Rs)\n",
    "x = np.linspace(450000,490000,1000)\n",
    "plt.plot(x,kde(x))\n",
    "plt.title('Distribution of Revenue, Figure 3')\n",
    "mean_Rs = np.mean(Rs)\n",
    "print(\"Mean of Revenue:\", round(mean_Rs,2))\n",
    "print(\"Probability of revenue above the mean in a given year:\", round(kde.integrate_box_1d(481049,np.inf),4)*100, \"%\")"
   ]
  },
  {
   "cell_type": "markdown",
   "id": "e45e128b-e5ad-496e-9813-bae8c8e76026",
   "metadata": {},
   "source": [
    "**Citations**"
   ]
  },
  {
   "cell_type": "markdown",
   "id": "9680a019-a957-4e53-a030-8db9eb63a956",
   "metadata": {},
   "source": [
    "[1] D., J. How weather affects restaurants sales. Liberty Interactive Marketing, LLC. https://teamupwithliberty.com/how-weather-affects-restaurants-sales/, (May 2023).\n",
    "\n",
    "[2] AMS Student Society of UBC Vancouver. 2024 Blue Chip Menu Summer. Retrieved from https://www.ams.ubc.ca/wp-content/uploads/2024/07/2024-BlueChip-Menu-Summer.pdf"
   ]
  },
  {
   "cell_type": "code",
   "execution_count": null,
   "id": "066da273-ad34-472d-b5cf-3ee40768ccb6",
   "metadata": {},
   "outputs": [],
   "source": []
  }
 ],
 "metadata": {
  "kernelspec": {
   "display_name": "Python 3 (ipykernel)",
   "language": "python",
   "name": "python3"
  },
  "language_info": {
   "codemirror_mode": {
    "name": "ipython",
    "version": 3
   },
   "file_extension": ".py",
   "mimetype": "text/x-python",
   "name": "python",
   "nbconvert_exporter": "python",
   "pygments_lexer": "ipython3",
   "version": "3.12.8"
  }
 },
 "nbformat": 4,
 "nbformat_minor": 5
}
